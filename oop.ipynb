{
  "nbformat": 4,
  "nbformat_minor": 0,
  "metadata": {
    "colab": {
      "provenance": [],
      "authorship_tag": "ABX9TyMY5xvOV6WuCnQelW4gRgj4",
      "include_colab_link": true
    },
    "kernelspec": {
      "name": "python3",
      "display_name": "Python 3"
    },
    "language_info": {
      "name": "python"
    }
  },
  "cells": [
    {
      "cell_type": "markdown",
      "metadata": {
        "id": "view-in-github",
        "colab_type": "text"
      },
      "source": [
        "<a href=\"https://colab.research.google.com/github/Suleman-Sehar/Assignment-6/blob/main/oop.ipynb\" target=\"_parent\"><img src=\"https://colab.research.google.com/assets/colab-badge.svg\" alt=\"Open In Colab\"/></a>"
      ]
    },
    {
      "cell_type": "markdown",
      "source": [
        "1. Using self\n",
        "Assignment:\n",
        "Create a class Student with attributes name and marks. Use the self keyword to initialize these values via a constructor. Add a method display() that prints student details."
      ],
      "metadata": {
        "id": "sfeBdqpC-Tuj"
      }
    },
    {
      "cell_type": "code",
      "source": [
        "class student:\n",
        "    def __init__(self,name,marks):\n",
        "        self.name=name\n",
        "        self.marks=marks\n",
        "    def display(self):\n",
        "        print(\"Student name:\", self.name)\n",
        "        print(\"Student marks:\",self.marks)\n",
        "\n",
        "# Example Usage\n",
        "student1=student(\"Suleman\",95)\n",
        "student1.display()\n",
        "student2=student(\"Sheroze\", 98)\n",
        "student2.display()\n"
      ],
      "metadata": {
        "colab": {
          "base_uri": "https://localhost:8080/"
        },
        "id": "AEAy-fKv-U1O",
        "outputId": "82a90ea0-eb09-49a3-fd31-2e53713acb43"
      },
      "execution_count": null,
      "outputs": [
        {
          "output_type": "stream",
          "name": "stdout",
          "text": [
            "Student name: Suleman\n",
            "Student marks: 95\n",
            "Student name: Sheroze\n",
            "Student marks: 98\n"
          ]
        }
      ]
    },
    {
      "cell_type": "markdown",
      "source": [
        "2. Using cls\n",
        "Assignment:\n",
        "Create a class Counter that keeps track of how many objects have been created. Use a class variable and a class method with cls to manage and display the count."
      ],
      "metadata": {
        "id": "FwKSy9qk-O7t"
      }
    },
    {
      "cell_type": "code",
      "source": [
        "class Counter:\n",
        "    object_count=0\n",
        "\n",
        "    def __init__(self):\n",
        "        Counter.object_count += 1\n",
        "\n",
        "    @classmethod\n",
        "    def display_count(cls):\n",
        "        print(\"Total objects created:\", cls.object_count)\n",
        "\n",
        " # Three objects created\n",
        "obj1 = Counter()\n",
        "obj2 = Counter()\n",
        "obj3 = Counter()\n",
        "\n",
        "# Display the count\n",
        "Counter.display_count()"
      ],
      "metadata": {
        "colab": {
          "base_uri": "https://localhost:8080/"
        },
        "id": "T1rFmId2BF-m",
        "outputId": "96516256-93a5-4c05-858e-ab6d49dbe5d7"
      },
      "execution_count": null,
      "outputs": [
        {
          "output_type": "stream",
          "name": "stdout",
          "text": [
            "Total objects created: 3\n"
          ]
        }
      ]
    },
    {
      "cell_type": "markdown",
      "source": [
        "3. Public Variables and Methods\n",
        "Assignment:\n",
        "Create a class Car with a public variable brand and a public method start(). Instantiate the class and access both from outside the class."
      ],
      "metadata": {
        "id": "8Crh1V_JC-y0"
      }
    },
    {
      "cell_type": "code",
      "source": [
        "class Car:\n",
        "    def __init__(self, brand):\n",
        "        self.brand = brand # Public Variable\n",
        "\n",
        "    def start(self): #Public method\n",
        "        print(f\"The {self.brand} car has starting...\")\n",
        "\n",
        "# Create an instance of the Car class\n",
        "my_car = Car(\"Toyota\")\n",
        "\n",
        "# Accessing public variable\n",
        "print(f\"My car is a {my_car.brand}.\")\n",
        "\n",
        "# Accessing public method\n",
        "my_car.start()\n"
      ],
      "metadata": {
        "colab": {
          "base_uri": "https://localhost:8080/"
        },
        "id": "Kx19XUjcDJQV",
        "outputId": "9bd32719-9647-4853-f7e3-91966297a00d"
      },
      "execution_count": null,
      "outputs": [
        {
          "output_type": "stream",
          "name": "stdout",
          "text": [
            "My car is a Toyota.\n",
            "The Toyota car has starting...\n"
          ]
        }
      ]
    },
    {
      "cell_type": "markdown",
      "source": [
        "4. Class Variables and Class Methods\n",
        "Assignment:\n",
        "Create a class Bank with a class variable bank_name. Add a class method change_bank_name(cls, name) that allows changing the bank name. Show that it affects all instances."
      ],
      "metadata": {
        "id": "WROGCxCVEO6Q"
      }
    },
    {
      "cell_type": "code",
      "source": [
        "class Bank:\n",
        "    bank_name = \"ABC Bank\"  # Class variable\n",
        "\n",
        "    def __init__(self, account_holder):\n",
        "        self.account_holder = account_holder\n",
        "\n",
        "    @classmethod\n",
        "    def change_bank_name(cls, name):\n",
        "        cls.bank_name = name  # Updating class variable\n",
        "\n",
        "    def display(self):\n",
        "        print(f\"Account Holder: {self.account_holder}, Bank: {Bank.bank_name}\")\n",
        "\n",
        "# Object creation\n",
        "user1 = Bank(\"Suleman\")\n",
        "user2 = Bank(\"Sheroze\")\n",
        "\n",
        "# Check initial bank name\n",
        "user1.display()  # Correct method call\n",
        "user2.display()  # Correct method call\n",
        "\n",
        "# Change the bank name\n",
        "Bank.change_bank_name(\"Meezan Bank (Pvt.) Ltd.\")\n",
        "\n",
        "# Check updated bank name\n",
        "user1.display()  # Correct method call\n",
        "user2.display()  # Correct method call"
      ],
      "metadata": {
        "colab": {
          "base_uri": "https://localhost:8080/"
        },
        "id": "gC6HK5koERuQ",
        "outputId": "edb2cce8-ec7a-40e3-cf50-8fecef881eff"
      },
      "execution_count": null,
      "outputs": [
        {
          "output_type": "stream",
          "name": "stdout",
          "text": [
            "Account Holder: Suleman, Bank: ABC Bank\n",
            "Account Holder: Sheroze, Bank: ABC Bank\n",
            "Account Holder: Suleman, Bank: Meezan Bank (Pvt.) Ltd.\n",
            "Account Holder: Sheroze, Bank: Meezan Bank (Pvt.) Ltd.\n"
          ]
        }
      ]
    },
    {
      "cell_type": "markdown",
      "source": [
        "5. Static Variables and Static Methods\n",
        "Assignment:\n",
        "Create a class MathUtils with a static method add(a, b) that returns the sum. No class or instance variables should be used."
      ],
      "metadata": {
        "id": "vlhwy_IIKQKY"
      }
    },
    {
      "cell_type": "code",
      "source": [
        "class MathUtils:\n",
        "\n",
        "    @staticmethod\n",
        "    def add(a, b):\n",
        "        return a + b\n",
        "\n",
        "# Using the static method\n",
        "result = MathUtils.add(10, 15)\n",
        "print(f\"The sum is: {result}\")\n"
      ],
      "metadata": {
        "id": "xwSTKlo4KWHm",
        "colab": {
          "base_uri": "https://localhost:8080/"
        },
        "outputId": "d695c4ef-9fee-40a8-9c1c-deae4d653e13"
      },
      "execution_count": null,
      "outputs": [
        {
          "output_type": "stream",
          "name": "stdout",
          "text": [
            "The sum is: 25\n"
          ]
        }
      ]
    },
    {
      "cell_type": "markdown",
      "source": [
        "6. Constructors and Destructors\n",
        "Assignment:\n",
        "Create a class Logger that prints a message when an object is created (constructor) and another message when it is destroyed (destructor)."
      ],
      "metadata": {
        "id": "WDddo7M2okYf"
      }
    },
    {
      "cell_type": "code",
      "source": [
        "class Logger:\n",
        "\n",
        "    # Constructor\n",
        "    def __init__(self):\n",
        "        print(\"Logger object has been created\")\n",
        "\n",
        "    # Destructor\n",
        "    def __del__(self):\n",
        "        print(\"Logger object has been destroyed\")\n",
        "\n",
        "# Create an object of logger class\n",
        "logger1 = Logger()\n",
        "\n",
        "# Delete the object explicitly to envoke the destructor\n",
        "del logger1\n"
      ],
      "metadata": {
        "colab": {
          "base_uri": "https://localhost:8080/"
        },
        "id": "rxzNGPTaotAg",
        "outputId": "df49d8b0-0060-4258-a56e-c7c9d38ea509"
      },
      "execution_count": null,
      "outputs": [
        {
          "output_type": "stream",
          "name": "stdout",
          "text": [
            "Logger object has been created\n",
            "Logger object has been destroyed\n"
          ]
        }
      ]
    },
    {
      "cell_type": "markdown",
      "source": [
        "7. Access Modifiers: Public, Private, and Protected\n",
        "Assignment:\n",
        "Create a class Employee with:\n",
        "\n",
        "a public variable name,\n",
        "\n",
        "a protected variable _salary, and\n",
        "\n",
        "a private variable __ssn.\n",
        "\n",
        "Try accessing all three variables from an object of the class and document what happens."
      ],
      "metadata": {
        "id": "Mp7MB-5drYUN"
      }
    },
    {
      "cell_type": "code",
      "source": [
        "class Employee:\n",
        "    # Public variable\n",
        "    name = \"Suleman\"\n",
        "\n",
        "    # Protected variable\n",
        "    _salary = 50000  # Single underscore convention\n",
        "\n",
        "    # Private variable\n",
        "    __ssn = \"123-45-6789\"  # Double underscore for name mangling\n",
        "\n",
        "# Create an object of Employee class\n",
        "emp = Employee()\n",
        "\n",
        "# Accessing the public variable (works)\n",
        "print(\"Name:\", emp.name)  # ✅ Output: Suleman\n",
        "\n",
        "# Accessing the protected variable (works but not recommended)\n",
        "print(\"Salary:\", emp._salary)  # ⚠️ Output: 50000 (conventionally discouraged)\n",
        "\n",
        "# Attempting to access the private variable directly (will fail)\n",
        "try:\n",
        "    print(\"SSN:\", emp.__ssn)  # ❌ AttributeError\n",
        "except Exception as e:  # ✅ Capture the exception\n",
        "    print(\"Error:\", e)  # ✅ Output: Error: ... (e.g., 'Employee' object has no attribute '__ssn')\n",
        "\n",
        "# Accessing the private variable via name mangling (works)\n",
        "print(\"SSN (Via name mangling):\", emp._Employee__ssn)  # ✅ Output: 123-45-6789"
      ],
      "metadata": {
        "id": "sHbfpKynrZtp",
        "colab": {
          "base_uri": "https://localhost:8080/"
        },
        "outputId": "7f39f472-d774-41f9-b9ac-2fec3686f1dc"
      },
      "execution_count": null,
      "outputs": [
        {
          "output_type": "stream",
          "name": "stdout",
          "text": [
            "Name: Suleman\n",
            "Salary: 50000\n",
            "Error: 'Employee' object has no attribute '__ssn'\n",
            "SSN (Via name mangling): 123-45-6789\n"
          ]
        }
      ]
    },
    {
      "cell_type": "markdown",
      "source": [
        "8. The super() Function\n",
        "Assignment:\n",
        "Create a class Person with a constructor that sets the name. Inherit a class Teacher from it, add a subject field, and use super() to call the base class constructor."
      ],
      "metadata": {
        "id": "WiRSan3ly2Gr"
      }
    },
    {
      "cell_type": "code",
      "source": [
        "# Base class person\n",
        "class Person:\n",
        "    def __init__(self, name):\n",
        "        self.name = name\n",
        "\n",
        "# Drived class teacher\n",
        "class Teacher(Person):\n",
        "    def __init__(self, name, subject):\n",
        "      # Calling the base class constructorusing super\n",
        "        super().__init__(name)\n",
        "        self.subject = subject\n",
        "\n",
        "    def display(self):\n",
        "        print(f\"Name: {self.name}\")\n",
        "        print(f\"Subject: {self.subject}\")\n",
        "\n",
        "# Class teacher object\n",
        "teacher = Teacher(\"Sir Ali Jawwad\", \"Mathematics\")\n",
        "teacher.display()"
      ],
      "metadata": {
        "colab": {
          "base_uri": "https://localhost:8080/"
        },
        "id": "X_W6AcD7zArc",
        "outputId": "a0dfc327-d6fc-479f-c791-a706bd0ba411"
      },
      "execution_count": null,
      "outputs": [
        {
          "output_type": "stream",
          "name": "stdout",
          "text": [
            "Name: Sir Ali Jawwad\n",
            "Subject: Mathematics\n"
          ]
        }
      ]
    },
    {
      "cell_type": "markdown",
      "source": [
        "9. Abstract Classes and Methods\n",
        "Assignment:\n",
        "Use the abc module to create an abstract class Shape with an abstract method area(). Inherit a class Rectangle that implements area()."
      ],
      "metadata": {
        "id": "6DehFzYg1Zgw"
      }
    },
    {
      "cell_type": "code",
      "source": [
        "from abc import ABC, abstractmethod\n",
        "\n",
        "# Abstract class shape\n",
        "class Shape(ABC):\n",
        "\n",
        "  @abstractmethod\n",
        "  def area(self):\n",
        "    pass\n",
        "\n",
        "# Class Rectangle that inherits from Shape and implements the area method\n",
        "class Rectangle(Shape):\n",
        "    def __init__(self, width, height):\n",
        "        self.width = width\n",
        "        self.height = height\n",
        "\n",
        "    def area(self):\n",
        "        return self.width * self.height\n",
        "\n",
        "#Createing an object of Rectangle and calling the area method\n",
        "rect = Rectangle(5, 10)\n",
        "print(f\"Area of the rectangle:, {rect.area()}\")"
      ],
      "metadata": {
        "colab": {
          "base_uri": "https://localhost:8080/"
        },
        "id": "-arJB8f71gGt",
        "outputId": "40added9-c040-4c0b-8d39-d5e04470f630"
      },
      "execution_count": null,
      "outputs": [
        {
          "output_type": "stream",
          "name": "stdout",
          "text": [
            "Area of the rectangle:, 50\n"
          ]
        }
      ]
    },
    {
      "cell_type": "markdown",
      "source": [
        "10. Instance Methods\n",
        "Assignment:\n",
        "Create a class Dog with instance variables name and breed. Add an instance method bark() that prints a message including the dog's name."
      ],
      "metadata": {
        "id": "B5FZ8fjijN14"
      }
    },
    {
      "cell_type": "code",
      "source": [
        "class Dog:\n",
        "    def __init__(self, name, breed):\n",
        "        # Instance variable\n",
        "        self.name = name\n",
        "        self.breed = breed\n",
        "\n",
        "    def bark(self):\n",
        "        print(f\"{self.name} the {self.breed} is barking and sound woof!\")\n",
        "# Creating an object of the Dog class\n",
        "my_dog = Dog(\"Buddy\", \"Golden Retriever\")\n",
        "\n",
        "# Calling the instance method\n",
        "my_dog.bark()"
      ],
      "metadata": {
        "colab": {
          "base_uri": "https://localhost:8080/"
        },
        "id": "M0qntElRjTAN",
        "outputId": "34cb9c1e-8f0f-46e3-a0f9-aaadcbb6bcd9"
      },
      "execution_count": 1,
      "outputs": [
        {
          "output_type": "stream",
          "name": "stdout",
          "text": [
            "Buddy the Golden Retriever is barking and sound woof!\n"
          ]
        }
      ]
    },
    {
      "cell_type": "markdown",
      "source": [
        "11. Class Methods\n",
        "Assignment:\n",
        "Create a class Book with a class variable total_books. Add a class method increment_book_count() to increase the count when a new book is added."
      ],
      "metadata": {
        "id": "psM41NA6lHoL"
      }
    },
    {
      "cell_type": "code",
      "source": [
        "class Book:\n",
        "    total_books = 0  # Class variable\n",
        "\n",
        "    @classmethod\n",
        "    def increment_book_count(cls):\n",
        "        cls.total_books += 1\n",
        "\n",
        "    def __init__(self, title, author):\n",
        "        # Instance variable\n",
        "        self.title = title\n",
        "        self.author = author\n",
        "        # Call the class method to increament the book count when a new book is created\n",
        "        Book.increment_book_count()\n",
        "\n",
        "# Creating new book objects\n",
        "book1 = Book(\"The Great Gatsby\", \"F. Scott Fitzgerald\")\n",
        "book2 = Book(\"To Kill a Mockingbird\", \"Harper Lee\")\n",
        "book3 = Book(\"1984\", \"George Orwell\")\n",
        "\n",
        "# Accessing the class variable\n",
        "print(f\"Total books in the library: {Book.total_books}\")"
      ],
      "metadata": {
        "colab": {
          "base_uri": "https://localhost:8080/"
        },
        "id": "8m_Hsm3blJOS",
        "outputId": "c03aa77c-496d-4cf4-eb35-f924eed14d1e"
      },
      "execution_count": 2,
      "outputs": [
        {
          "output_type": "stream",
          "name": "stdout",
          "text": [
            "Total books in the library: 3\n"
          ]
        }
      ]
    },
    {
      "cell_type": "markdown",
      "source": [
        "12. Static Methods\n",
        "Assignment:\n",
        "Create a class TemperatureConverter with a static method celsius_to_fahrenheit(c) that returns the Fahrenheit value."
      ],
      "metadata": {
        "id": "eQ9kbxW8pU7A"
      }
    },
    {
      "cell_type": "code",
      "source": [
        "class TemperatureConverter:\n",
        "\n",
        "    @staticmethod\n",
        "    def celsius_to_fahrenheit(c):\n",
        "      # Formula to convert Celcius to Fahrenheit\n",
        "        return (c * 9/5) + 32\n",
        "\n",
        "# Calling the static method without creating an instence of the class\n",
        "Calcius = 25\n",
        "fahrenheit = TemperatureConverter.celsius_to_fahrenheit(Calcius)\n",
        "print(f\"{Calcius} degree Calcius is equal to {fahrenheit} degrees Fahrenheit.\")"
      ],
      "metadata": {
        "colab": {
          "base_uri": "https://localhost:8080/"
        },
        "id": "zn0AwaKrpcit",
        "outputId": "6150c26e-6925-44dc-9010-caed50c244b0"
      },
      "execution_count": 3,
      "outputs": [
        {
          "output_type": "stream",
          "name": "stdout",
          "text": [
            "25 degree Calcius is equal to 77.0 degrees Fahrenheit.\n"
          ]
        }
      ]
    },
    {
      "cell_type": "markdown",
      "source": [
        "13. Composition\n",
        "Assignment:\n",
        "Create a class Engine and a class Car. Use composition by passing an Engine object to the Car class during initialization. Access a method of the Engine class via the Car class."
      ],
      "metadata": {
        "id": "rdeXpLb5rWw4"
      }
    },
    {
      "cell_type": "code",
      "source": [
        "class Engine:\n",
        "    def __init__(self, engine_type):\n",
        "        self.engine_type = engine_type\n",
        "\n",
        "    def start(self):\n",
        "        return f\"The {self.engine_type} engine is starting...\"\n",
        "\n",
        "class Car:\n",
        "    def __init__(self, brand, engine):\n",
        "        self.brand = brand\n",
        "        # Composition: Passing an Engine object to the car class\n",
        "        self.engine = engine\n",
        "\n",
        "    def start_car(self):\n",
        "        # Accessing the start method of the Engine class via the Car class\n",
        "        return f\"{self.brand} car is starting. {self.engine.start()}\"\n",
        "# Creating an Engine object\n",
        "engine = Engine(\"V8\")\n",
        "\n",
        "# Creating a Car object and passing the Engine object to it\n",
        "car = Car(\"Toyota\", engine)\n",
        "\n",
        "# Accessing the start_car method of the Car class\n",
        "print(car.start_car())"
      ],
      "metadata": {
        "colab": {
          "base_uri": "https://localhost:8080/"
        },
        "id": "JCHrhMxqrYQR",
        "outputId": "8dc0ca45-99ff-4c6c-bc97-4c90534f4856"
      },
      "execution_count": 4,
      "outputs": [
        {
          "output_type": "stream",
          "name": "stdout",
          "text": [
            "Toyota car is starting. The V8 engine is starting...\n"
          ]
        }
      ]
    },
    {
      "cell_type": "markdown",
      "source": [
        "14. Aggregation\n",
        "Assignment:\n",
        "Create a class Department and a class Employee. Use aggregation by having a Department object store a reference to an Employee object that exists independently of it."
      ],
      "metadata": {
        "id": "OXhl4ZyFuWRI"
      }
    },
    {
      "cell_type": "code",
      "source": [
        "class Employee:\n",
        "    def __init__(self, name, position):\n",
        "        self.name = name\n",
        "        self.position = position\n",
        "\n",
        "    def get_employee_info(self):\n",
        "        return f\"Name: {self.name}, Position: {self.position}\"\n",
        "\n",
        "class Department:\n",
        "    def __init__(self, dept_name, employees):\n",
        "            self.dept_name = dept_name\n",
        "            # Aggregation: Storing a reference to an Employee object\n",
        "            self.employees = employees\n",
        "\n",
        "    def get_department_info(self):\n",
        "            return f\"Department: {self.dept_name}, Employee:{self.employees.get_employee_info()}\"\n",
        "\n",
        "# Creating an Employee object\n",
        "employee1 = Employee (\"Suleman Sehar\", \"Software Engineer\")\n",
        "\n",
        "# Creating a Department object and passing the Employee object to it\n",
        "department1 = Department(\"IT Deparment\", employee1)\n",
        "\n",
        "# Calling the method to get the department and employee info\n",
        "print(department1.get_department_info())"
      ],
      "metadata": {
        "colab": {
          "base_uri": "https://localhost:8080/"
        },
        "id": "cou2ES-CuX8U",
        "outputId": "f4b81077-c18f-4bbe-8b03-28f85ef7cdaf"
      },
      "execution_count": 8,
      "outputs": [
        {
          "output_type": "stream",
          "name": "stdout",
          "text": [
            "Department: IT Deparment, Employee:Name: Suleman Sehar, Position: Software Engineer\n"
          ]
        }
      ]
    },
    {
      "cell_type": "markdown",
      "source": [
        "15. Method Resolution Order (MRO) and Diamond Inheritance\n",
        "Assignment:\n",
        "Create four classes:\n",
        "\n",
        "A with a method show(),\n",
        "\n",
        "B and C that inherit from A and override show(),\n",
        "\n",
        "D that inherits from both B and C.\n",
        "\n",
        "Create an object of D and call show() to observe MRO."
      ],
      "metadata": {
        "id": "Rd9qrvrI3YS9"
      }
    },
    {
      "cell_type": "code",
      "source": [
        "class A:\n",
        "  def show(self):\n",
        "    print(\"Method show() from class A\")\n",
        "\n",
        "class B(A):\n",
        "  def show(self):\n",
        "    print(\"Method show() from class B\")\n",
        "\n",
        "class C(A):\n",
        "  def show(self):\n",
        "    print(\"Method show () from class C\")\n",
        "\n",
        "class D(B, C):\n",
        "  pass\n",
        "\n",
        "# Creating an object of Class D\n",
        "d = D()\n",
        "\n",
        "# Calling the show() method to observe the Method Resolution Order (MRO)\n",
        "d.show()\n",
        "\n",
        "# Printing the MRO to observe the order\n",
        "print(D.mro())"
      ],
      "metadata": {
        "colab": {
          "base_uri": "https://localhost:8080/"
        },
        "id": "KClZJ_7F3bYQ",
        "outputId": "2c4c2566-f9f2-4041-851f-090c37e31c12"
      },
      "execution_count": 14,
      "outputs": [
        {
          "output_type": "stream",
          "name": "stdout",
          "text": [
            "Method show() from class B\n",
            "[<class '__main__.D'>, <class '__main__.B'>, <class '__main__.C'>, <class '__main__.A'>, <class 'object'>]\n"
          ]
        }
      ]
    },
    {
      "cell_type": "markdown",
      "source": [
        "16. Function Decorators\n",
        "Assignment:\n",
        "Write a decorator function log_function_call that prints \"Function is being called\" before a function executes. Apply it to a function say_hello()."
      ],
      "metadata": {
        "id": "rh0bcy0q5V9W"
      }
    },
    {
      "cell_type": "code",
      "source": [
        "# Decorator Function\n",
        "def log_function_call(func):\n",
        "  def wrapper():\n",
        "    print(\"Function is being called\")\n",
        "    return func() # Call the original function\n",
        "  return wrapper\n",
        "\n",
        "# Function to be decorated\n",
        "@log_function_call\n",
        "def say_hello():\n",
        "  print(\"Hello, World!\")\n",
        "\n",
        "# Calling the decorated function\n",
        "say_hello()"
      ],
      "metadata": {
        "colab": {
          "base_uri": "https://localhost:8080/"
        },
        "id": "OGqp4Uhv5YFS",
        "outputId": "da6f265f-f8cf-4115-e873-a0c49f65ec61"
      },
      "execution_count": 15,
      "outputs": [
        {
          "output_type": "stream",
          "name": "stdout",
          "text": [
            "Function is being called\n",
            "Hello, World!\n"
          ]
        }
      ]
    },
    {
      "cell_type": "markdown",
      "source": [
        "17. Class Decorators\n",
        "Assignment:\n",
        "Create a class decorator add_greeting that modifies a class to add a greet() method returning \"Hello from Decorator!\". Apply it to a class Person."
      ],
      "metadata": {
        "id": "FTHWaRqg6UHI"
      }
    },
    {
      "cell_type": "code",
      "source": [
        "# Class decorator\n",
        "def add_greeting(cls):\n",
        "    def greet(self):\n",
        "      return \"Hello from Decorator!\"\n",
        "    # Add the greet method to the class\n",
        "    cls.greet = greet\n",
        "    return cls\n",
        "\n",
        "# applying the class decorator to the Person class\n",
        "@add_greeting\n",
        "class Person:\n",
        "  def __init__(self, name):\n",
        "    self.name = name\n",
        "\n",
        "# Creating an instance of the Person class\n",
        "person = Person(\"Suleman\")\n",
        "\n",
        "# Calling the greet method\n",
        "print(person.greet())"
      ],
      "metadata": {
        "colab": {
          "base_uri": "https://localhost:8080/"
        },
        "id": "XccHd7zm6Vt9",
        "outputId": "53bedf2f-aa87-475b-f8f3-8587bfae31a2"
      },
      "execution_count": 16,
      "outputs": [
        {
          "output_type": "stream",
          "name": "stdout",
          "text": [
            "Hello from Decorator!\n"
          ]
        }
      ]
    },
    {
      "cell_type": "markdown",
      "source": [
        "18. Property Decorators: @property, @setter, and @deleter\n",
        "Assignment:\n",
        "Create a class Product with a private attribute _price. Use @property to get the price, @price.setter to update it, and @price.deleter to delete it."
      ],
      "metadata": {
        "id": "lUTfmv4j7ovQ"
      }
    },
    {
      "cell_type": "code",
      "source": [
        "class Product:\n",
        "  def __init__(self, name, price):\n",
        "    self.name = name\n",
        "    self._price = price # Private attribute\n",
        "\n",
        "  # Getter for the price attribute\n",
        "  @property\n",
        "  def price(self):\n",
        "    return self._price\n",
        "\n",
        "  # Setter to update the price attribute\n",
        "  @price.setter\n",
        "  def price(self, value):\n",
        "    if value < 0:\n",
        "      print(\"Price cannot be negative!\")\n",
        "    else:\n",
        "      self._price = value\n",
        "\n",
        "  # Deleter to delete the price attribute\n",
        "  @price.deleter\n",
        "  def price(self):\n",
        "    print(f\"Deleting the price of {self.name}\")\n",
        "    del self._price\n",
        "# Creating a Product object\n",
        "product = Product(\"Laptop\", 1000)\n",
        "# Accessing the price using the @property\n",
        "print(product.price)\n",
        "# Updating the price using @price.setter\n",
        "product.price = 1500\n",
        "print(product.price)\n",
        "\n",
        "#Trying to set a negative price\n",
        "product.price = -500 # Output: Price cannot be negative!\n",
        "del product.price # Output: Deleting the price of Laptop"
      ],
      "metadata": {
        "colab": {
          "base_uri": "https://localhost:8080/"
        },
        "id": "X9a9Z_5J7qiM",
        "outputId": "ce7b3e2f-0516-48f6-9530-a450f557578d"
      },
      "execution_count": 17,
      "outputs": [
        {
          "output_type": "stream",
          "name": "stdout",
          "text": [
            "1000\n",
            "1500\n",
            "Price cannot be negative!\n",
            "Deleting the price of Laptop\n"
          ]
        }
      ]
    },
    {
      "cell_type": "markdown",
      "source": [
        "19. callable() and __call__()\n",
        "Assignment:\n",
        "Create a class Multiplier with an __init__() to set a factor. Define a __call__() method that multiplies an input by the factor. Test it with callable() and by calling the object like a function."
      ],
      "metadata": {
        "id": "3v8crM89-5no"
      }
    },
    {
      "cell_type": "code",
      "source": [
        "class Multiplier:\n",
        "  def __init__(self, factor):\n",
        "    self.factor = factor # Setting the factor\n",
        "\n",
        "  def __call__(self, number):\n",
        "    # This method allows the object to be called like a function\n",
        "    return number * self.factor\n",
        "\n",
        "#Creating an instance of Multiplier with a factor of 5\n",
        "multiplier = Multiplier(5)\n",
        "\n",
        "# Testing with callable() to check if the object is callable\n",
        "print(callable(multiplier)) # Output: True\n",
        "\n",
        "# Calling the object like a function to multiply an input by the factor\n",
        "result = multiplier(10) # This calls __call__(10) method\n",
        "print(result) # Output: 50"
      ],
      "metadata": {
        "colab": {
          "base_uri": "https://localhost:8080/"
        },
        "id": "2ir6ayuI_BGS",
        "outputId": "0fb22a38-5edd-49d6-f348-e3b1ee188222"
      },
      "execution_count": 18,
      "outputs": [
        {
          "output_type": "stream",
          "name": "stdout",
          "text": [
            "True\n",
            "50\n"
          ]
        }
      ]
    },
    {
      "cell_type": "markdown",
      "source": [
        "20. Creating a Custom Exception\n",
        "Assignment:\n",
        "Create a custom exception InvalidAgeError. Write a function check_age(age) that raises this exception if age < 18. Handle it with try...except."
      ],
      "metadata": {
        "id": "2B3f3G5vArhp"
      }
    },
    {
      "cell_type": "code",
      "source": [
        "# Custom exception\n",
        "class InvalidAgeError(Exception):\n",
        "  def __init__(self, message=\"Age must be 18 or older\"):\n",
        "    self.message = message\n",
        "    super().__init__(self.message)\n",
        "\n",
        "# Function to check age\n",
        "def check_age(age):\n",
        "  if age < 18:\n",
        "    raise InvalidAgeError(f\"Invalid {age}. You must be 18 or older\")\n",
        "  else:\n",
        "    print(f\"Age {age} is valid\")\n",
        "\n",
        "# Handling the exception using try...except\n",
        "try:\n",
        "  age = int(input(\"Enter your age: \"))\n",
        "  check_age(age)\n",
        "except InvalidAgeError as e:\n",
        "  print(f\"Error: {e}\")\n",
        "except ValueError:\n",
        "  print(\"Please enter a valid integar for age. \")"
      ],
      "metadata": {
        "colab": {
          "base_uri": "https://localhost:8080/"
        },
        "id": "16c7hxSJAuD0",
        "outputId": "c701d32f-5112-497b-8c4b-5cec5e99e84f"
      },
      "execution_count": 20,
      "outputs": [
        {
          "output_type": "stream",
          "name": "stdout",
          "text": [
            "Enter your age: 30\n",
            "Age 30 is valid\n"
          ]
        }
      ]
    },
    {
      "cell_type": "markdown",
      "source": [
        "21. Make a Custom Class Iterable\n",
        "Assignment:\n",
        "Create a class Countdown that takes a start number. Implement __iter__() and __next__() to make the object iterable in a for-loop, counting down to 0."
      ],
      "metadata": {
        "id": "gobxyUtjEbe2"
      }
    },
    {
      "cell_type": "code",
      "source": [
        "class Countdown:\n",
        "    def __init__(self, start):\n",
        "        self.start = start\n",
        "        self.current = start  # Initialize current to the starting number\n",
        "\n",
        "    def __iter__(self):\n",
        "        # Return the iterator object itself\n",
        "        return self\n",
        "\n",
        "    def __next__(self):\n",
        "        # Check if current is less than 0, stop the iteration\n",
        "        if self.current < 0:\n",
        "            raise StopIteration\n",
        "        # Save the current value before decrementing\n",
        "        current_val = self.current\n",
        "        # Decrease current by 1\n",
        "        self.current -= 1\n",
        "        # Return the original value (before decrement)\n",
        "        return current_val\n",
        "\n",
        "# Create a Countdown object starting from 5\n",
        "countdown = Countdown(5)\n",
        "\n",
        "# Iterate and print each number\n",
        "for number in countdown:\n",
        "    print(number)"
      ],
      "metadata": {
        "colab": {
          "base_uri": "https://localhost:8080/"
        },
        "id": "8IIA3OZbEc0L",
        "outputId": "02ba1f28-25df-44e0-8f70-fc795726bf56"
      },
      "execution_count": 25,
      "outputs": [
        {
          "output_type": "stream",
          "name": "stdout",
          "text": [
            "5\n",
            "4\n",
            "3\n",
            "2\n",
            "1\n",
            "0\n"
          ]
        }
      ]
    }
  ]
}